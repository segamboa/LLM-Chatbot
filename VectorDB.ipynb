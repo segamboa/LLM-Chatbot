{
 "cells": [
  {
   "cell_type": "code",
   "execution_count": 1,
   "metadata": {
    "colab": {
     "base_uri": "https://localhost:8080/"
    },
    "execution": {
     "iopub.execute_input": "2024-02-14T01:02:19.732666Z",
     "iopub.status.busy": "2024-02-14T01:02:19.732261Z",
     "iopub.status.idle": "2024-02-14T01:02:31.275033Z",
     "shell.execute_reply": "2024-02-14T01:02:31.274090Z",
     "shell.execute_reply.started": "2024-02-14T01:02:19.732637Z"
    },
    "executionInfo": {
     "elapsed": 11143,
     "status": "ok",
     "timestamp": 1707847384794,
     "user": {
      "displayName": "Santiago Gamboa",
      "userId": "10773537394585021203"
     },
     "user_tz": 300
    },
    "id": "EliRVlj2Bi49",
    "outputId": "1033de1b-239c-437c-f0e5-a31e1ddd5d56",
    "tags": []
   },
   "outputs": [
    {
     "name": "stdout",
     "output_type": "stream",
     "text": [
      "Requirement already satisfied: chromadb==0.3.22 in /opt/saturncloud/envs/saturn/lib/python3.9/site-packages (0.3.22)\n",
      "Collecting langchain==0.0.164\n",
      "  Using cached langchain-0.0.164-py3-none-any.whl.metadata (10 kB)\n",
      "Collecting transformers==4.29.0\n",
      "  Using cached transformers-4.29.0-py3-none-any.whl.metadata (111 kB)\n",
      "Collecting accelerate==0.19.0\n",
      "  Using cached accelerate-0.19.0-py3-none-any.whl (219 kB)\n",
      "Requirement already satisfied: pandas>=1.3 in /opt/saturncloud/envs/saturn/lib/python3.9/site-packages (from chromadb==0.3.22) (2.2.0)\n",
      "Requirement already satisfied: requests>=2.28 in /opt/saturncloud/envs/saturn/lib/python3.9/site-packages (from chromadb==0.3.22) (2.31.0)\n",
      "Requirement already satisfied: pydantic>=1.9 in /opt/saturncloud/envs/saturn/lib/python3.9/site-packages (from chromadb==0.3.22) (2.5.3)\n",
      "Requirement already satisfied: hnswlib>=0.7 in /opt/saturncloud/envs/saturn/lib/python3.9/site-packages (from chromadb==0.3.22) (0.8.0)\n",
      "Requirement already satisfied: clickhouse-connect>=0.5.7 in /opt/saturncloud/envs/saturn/lib/python3.9/site-packages (from chromadb==0.3.22) (0.7.0)\n",
      "Requirement already satisfied: sentence-transformers>=2.2.2 in /opt/saturncloud/envs/saturn/lib/python3.9/site-packages (from chromadb==0.3.22) (2.2.2)\n",
      "Requirement already satisfied: duckdb>=0.7.1 in /opt/saturncloud/envs/saturn/lib/python3.9/site-packages (from chromadb==0.3.22) (0.10.0)\n",
      "Requirement already satisfied: fastapi>=0.85.1 in /opt/saturncloud/envs/saturn/lib/python3.9/site-packages (from chromadb==0.3.22) (0.109.0)\n",
      "Requirement already satisfied: uvicorn>=0.18.3 in /opt/saturncloud/envs/saturn/lib/python3.9/site-packages (from uvicorn[standard]>=0.18.3->chromadb==0.3.22) (0.27.0)\n",
      "Requirement already satisfied: numpy>=1.21.6 in /opt/saturncloud/envs/saturn/lib/python3.9/site-packages (from chromadb==0.3.22) (1.24.4)\n",
      "Requirement already satisfied: posthog>=2.4.0 in /opt/saturncloud/envs/saturn/lib/python3.9/site-packages (from chromadb==0.3.22) (3.4.1)\n",
      "Requirement already satisfied: typing-extensions>=4.5.0 in /opt/saturncloud/envs/saturn/lib/python3.9/site-packages (from chromadb==0.3.22) (4.9.0)\n",
      "Requirement already satisfied: PyYAML>=5.4.1 in /opt/saturncloud/envs/saturn/lib/python3.9/site-packages (from langchain==0.0.164) (6.0.1)\n",
      "Requirement already satisfied: SQLAlchemy<3,>=1.4 in /opt/saturncloud/envs/saturn/lib/python3.9/site-packages (from langchain==0.0.164) (2.0.25)\n",
      "Requirement already satisfied: aiohttp<4.0.0,>=3.8.3 in /opt/saturncloud/envs/saturn/lib/python3.9/site-packages (from langchain==0.0.164) (3.9.1)\n",
      "Requirement already satisfied: async-timeout<5.0.0,>=4.0.0 in /opt/saturncloud/envs/saturn/lib/python3.9/site-packages (from langchain==0.0.164) (4.0.3)\n",
      "Collecting dataclasses-json<0.6.0,>=0.5.7 (from langchain==0.0.164)\n",
      "  Using cached dataclasses_json-0.5.14-py3-none-any.whl.metadata (22 kB)\n",
      "Collecting numexpr<3.0.0,>=2.8.4 (from langchain==0.0.164)\n",
      "  Using cached numexpr-2.9.0-cp39-cp39-manylinux_2_17_x86_64.manylinux2014_x86_64.whl.metadata (7.9 kB)\n",
      "Collecting openapi-schema-pydantic<2.0,>=1.2 (from langchain==0.0.164)\n",
      "  Using cached openapi_schema_pydantic-1.2.4-py3-none-any.whl (90 kB)\n",
      "Collecting pydantic>=1.9 (from chromadb==0.3.22)\n",
      "  Using cached pydantic-1.10.14-cp39-cp39-manylinux_2_17_x86_64.manylinux2014_x86_64.whl.metadata (150 kB)\n",
      "Requirement already satisfied: tenacity<9.0.0,>=8.1.0 in /opt/saturncloud/envs/saturn/lib/python3.9/site-packages (from langchain==0.0.164) (8.2.3)\n",
      "Requirement already satisfied: tqdm>=4.48.0 in /opt/saturncloud/envs/saturn/lib/python3.9/site-packages (from langchain==0.0.164) (4.66.1)\n",
      "Requirement already satisfied: filelock in /opt/saturncloud/envs/saturn/lib/python3.9/site-packages (from transformers==4.29.0) (3.13.1)\n",
      "Requirement already satisfied: huggingface-hub<1.0,>=0.11.0 in /opt/saturncloud/envs/saturn/lib/python3.9/site-packages (from transformers==4.29.0) (0.20.3)\n",
      "Requirement already satisfied: packaging>=20.0 in /opt/saturncloud/envs/saturn/lib/python3.9/site-packages (from transformers==4.29.0) (23.2)\n",
      "Requirement already satisfied: regex!=2019.12.17 in /opt/saturncloud/envs/saturn/lib/python3.9/site-packages (from transformers==4.29.0) (2023.12.25)\n",
      "Collecting tokenizers!=0.11.3,<0.14,>=0.11.1 (from transformers==4.29.0)\n",
      "  Using cached tokenizers-0.13.3-cp39-cp39-manylinux_2_17_x86_64.manylinux2014_x86_64.whl (7.8 MB)\n",
      "Requirement already satisfied: psutil in /opt/saturncloud/envs/saturn/lib/python3.9/site-packages (from accelerate==0.19.0) (5.9.8)\n",
      "Requirement already satisfied: torch>=1.6.0 in /opt/saturncloud/envs/saturn/lib/python3.9/site-packages (from accelerate==0.19.0) (2.1.2)\n",
      "Requirement already satisfied: attrs>=17.3.0 in /opt/saturncloud/envs/saturn/lib/python3.9/site-packages (from aiohttp<4.0.0,>=3.8.3->langchain==0.0.164) (23.2.0)\n",
      "Requirement already satisfied: multidict<7.0,>=4.5 in /opt/saturncloud/envs/saturn/lib/python3.9/site-packages (from aiohttp<4.0.0,>=3.8.3->langchain==0.0.164) (6.0.4)\n",
      "Requirement already satisfied: yarl<2.0,>=1.0 in /opt/saturncloud/envs/saturn/lib/python3.9/site-packages (from aiohttp<4.0.0,>=3.8.3->langchain==0.0.164) (1.9.4)\n",
      "Requirement already satisfied: frozenlist>=1.1.1 in /opt/saturncloud/envs/saturn/lib/python3.9/site-packages (from aiohttp<4.0.0,>=3.8.3->langchain==0.0.164) (1.4.1)\n",
      "Requirement already satisfied: aiosignal>=1.1.2 in /opt/saturncloud/envs/saturn/lib/python3.9/site-packages (from aiohttp<4.0.0,>=3.8.3->langchain==0.0.164) (1.3.1)\n",
      "Requirement already satisfied: certifi in /opt/saturncloud/envs/saturn/lib/python3.9/site-packages (from clickhouse-connect>=0.5.7->chromadb==0.3.22) (2023.11.17)\n",
      "Requirement already satisfied: urllib3>=1.26 in /opt/saturncloud/envs/saturn/lib/python3.9/site-packages (from clickhouse-connect>=0.5.7->chromadb==0.3.22) (2.1.0)\n",
      "Requirement already satisfied: pytz in /opt/saturncloud/envs/saturn/lib/python3.9/site-packages (from clickhouse-connect>=0.5.7->chromadb==0.3.22) (2023.3.post1)\n",
      "Requirement already satisfied: zstandard in /opt/saturncloud/envs/saturn/lib/python3.9/site-packages (from clickhouse-connect>=0.5.7->chromadb==0.3.22) (0.22.0)\n",
      "Requirement already satisfied: lz4 in /opt/saturncloud/envs/saturn/lib/python3.9/site-packages (from clickhouse-connect>=0.5.7->chromadb==0.3.22) (4.3.3)\n",
      "Requirement already satisfied: marshmallow<4.0.0,>=3.18.0 in /opt/saturncloud/envs/saturn/lib/python3.9/site-packages (from dataclasses-json<0.6.0,>=0.5.7->langchain==0.0.164) (3.20.2)\n",
      "Requirement already satisfied: typing-inspect<1,>=0.4.0 in /opt/saturncloud/envs/saturn/lib/python3.9/site-packages (from dataclasses-json<0.6.0,>=0.5.7->langchain==0.0.164) (0.9.0)\n",
      "Requirement already satisfied: starlette<0.36.0,>=0.35.0 in /opt/saturncloud/envs/saturn/lib/python3.9/site-packages (from fastapi>=0.85.1->chromadb==0.3.22) (0.35.1)\n",
      "Requirement already satisfied: fsspec>=2023.5.0 in /opt/saturncloud/envs/saturn/lib/python3.9/site-packages (from huggingface-hub<1.0,>=0.11.0->transformers==4.29.0) (2024.2.0)\n",
      "Requirement already satisfied: python-dateutil>=2.8.2 in /opt/saturncloud/envs/saturn/lib/python3.9/site-packages (from pandas>=1.3->chromadb==0.3.22) (2.8.2)\n",
      "Requirement already satisfied: tzdata>=2022.7 in /opt/saturncloud/envs/saturn/lib/python3.9/site-packages (from pandas>=1.3->chromadb==0.3.22) (2023.4)\n",
      "Requirement already satisfied: six>=1.5 in /opt/saturncloud/envs/saturn/lib/python3.9/site-packages (from posthog>=2.4.0->chromadb==0.3.22) (1.16.0)\n",
      "Requirement already satisfied: monotonic>=1.5 in /opt/saturncloud/envs/saturn/lib/python3.9/site-packages (from posthog>=2.4.0->chromadb==0.3.22) (1.6)\n",
      "Requirement already satisfied: backoff>=1.10.0 in /opt/saturncloud/envs/saturn/lib/python3.9/site-packages (from posthog>=2.4.0->chromadb==0.3.22) (2.2.1)\n",
      "Requirement already satisfied: charset-normalizer<4,>=2 in /opt/saturncloud/envs/saturn/lib/python3.9/site-packages (from requests>=2.28->chromadb==0.3.22) (3.3.2)\n",
      "Requirement already satisfied: idna<4,>=2.5 in /opt/saturncloud/envs/saturn/lib/python3.9/site-packages (from requests>=2.28->chromadb==0.3.22) (3.6)\n",
      "Requirement already satisfied: torchvision in /opt/saturncloud/envs/saturn/lib/python3.9/site-packages (from sentence-transformers>=2.2.2->chromadb==0.3.22) (0.16.2)\n",
      "Requirement already satisfied: scikit-learn in /opt/saturncloud/envs/saturn/lib/python3.9/site-packages (from sentence-transformers>=2.2.2->chromadb==0.3.22) (1.4.0)\n",
      "Requirement already satisfied: scipy in /opt/saturncloud/envs/saturn/lib/python3.9/site-packages (from sentence-transformers>=2.2.2->chromadb==0.3.22) (1.12.0)\n",
      "Requirement already satisfied: nltk in /opt/saturncloud/envs/saturn/lib/python3.9/site-packages (from sentence-transformers>=2.2.2->chromadb==0.3.22) (3.8.1)\n",
      "Requirement already satisfied: sentencepiece in /opt/saturncloud/envs/saturn/lib/python3.9/site-packages (from sentence-transformers>=2.2.2->chromadb==0.3.22) (0.1.99)\n",
      "Requirement already satisfied: greenlet!=0.4.17 in /opt/saturncloud/envs/saturn/lib/python3.9/site-packages (from SQLAlchemy<3,>=1.4->langchain==0.0.164) (3.0.3)\n",
      "Requirement already satisfied: sympy in /opt/saturncloud/envs/saturn/lib/python3.9/site-packages (from torch>=1.6.0->accelerate==0.19.0) (1.12)\n",
      "Requirement already satisfied: networkx in /opt/saturncloud/envs/saturn/lib/python3.9/site-packages (from torch>=1.6.0->accelerate==0.19.0) (3.2.1)\n",
      "Requirement already satisfied: jinja2 in /opt/saturncloud/envs/saturn/lib/python3.9/site-packages (from torch>=1.6.0->accelerate==0.19.0) (3.1.3)\n",
      "Requirement already satisfied: nvidia-cuda-nvrtc-cu12==12.1.105 in /opt/saturncloud/envs/saturn/lib/python3.9/site-packages (from torch>=1.6.0->accelerate==0.19.0) (12.1.105)\n",
      "Requirement already satisfied: nvidia-cuda-runtime-cu12==12.1.105 in /opt/saturncloud/envs/saturn/lib/python3.9/site-packages (from torch>=1.6.0->accelerate==0.19.0) (12.1.105)\n",
      "Requirement already satisfied: nvidia-cuda-cupti-cu12==12.1.105 in /opt/saturncloud/envs/saturn/lib/python3.9/site-packages (from torch>=1.6.0->accelerate==0.19.0) (12.1.105)\n",
      "Requirement already satisfied: nvidia-cudnn-cu12==8.9.2.26 in /opt/saturncloud/envs/saturn/lib/python3.9/site-packages (from torch>=1.6.0->accelerate==0.19.0) (8.9.2.26)\n",
      "Requirement already satisfied: nvidia-cublas-cu12==12.1.3.1 in /opt/saturncloud/envs/saturn/lib/python3.9/site-packages (from torch>=1.6.0->accelerate==0.19.0) (12.1.3.1)\n",
      "Requirement already satisfied: nvidia-cufft-cu12==11.0.2.54 in /opt/saturncloud/envs/saturn/lib/python3.9/site-packages (from torch>=1.6.0->accelerate==0.19.0) (11.0.2.54)\n",
      "Requirement already satisfied: nvidia-curand-cu12==10.3.2.106 in /opt/saturncloud/envs/saturn/lib/python3.9/site-packages (from torch>=1.6.0->accelerate==0.19.0) (10.3.2.106)\n",
      "Requirement already satisfied: nvidia-cusolver-cu12==11.4.5.107 in /opt/saturncloud/envs/saturn/lib/python3.9/site-packages (from torch>=1.6.0->accelerate==0.19.0) (11.4.5.107)\n",
      "Requirement already satisfied: nvidia-cusparse-cu12==12.1.0.106 in /opt/saturncloud/envs/saturn/lib/python3.9/site-packages (from torch>=1.6.0->accelerate==0.19.0) (12.1.0.106)\n",
      "Requirement already satisfied: nvidia-nccl-cu12==2.18.1 in /opt/saturncloud/envs/saturn/lib/python3.9/site-packages (from torch>=1.6.0->accelerate==0.19.0) (2.18.1)\n",
      "Requirement already satisfied: nvidia-nvtx-cu12==12.1.105 in /opt/saturncloud/envs/saturn/lib/python3.9/site-packages (from torch>=1.6.0->accelerate==0.19.0) (12.1.105)\n",
      "Requirement already satisfied: triton==2.1.0 in /opt/saturncloud/envs/saturn/lib/python3.9/site-packages (from torch>=1.6.0->accelerate==0.19.0) (2.1.0)\n",
      "Requirement already satisfied: nvidia-nvjitlink-cu12 in /opt/saturncloud/envs/saturn/lib/python3.9/site-packages (from nvidia-cusolver-cu12==11.4.5.107->torch>=1.6.0->accelerate==0.19.0) (12.3.101)\n",
      "Requirement already satisfied: click>=7.0 in /opt/saturncloud/envs/saturn/lib/python3.9/site-packages (from uvicorn>=0.18.3->uvicorn[standard]>=0.18.3->chromadb==0.3.22) (8.1.7)\n",
      "Requirement already satisfied: h11>=0.8 in /opt/saturncloud/envs/saturn/lib/python3.9/site-packages (from uvicorn>=0.18.3->uvicorn[standard]>=0.18.3->chromadb==0.3.22) (0.14.0)\n",
      "Requirement already satisfied: httptools>=0.5.0 in /opt/saturncloud/envs/saturn/lib/python3.9/site-packages (from uvicorn[standard]>=0.18.3->chromadb==0.3.22) (0.6.1)\n",
      "Requirement already satisfied: python-dotenv>=0.13 in /opt/saturncloud/envs/saturn/lib/python3.9/site-packages (from uvicorn[standard]>=0.18.3->chromadb==0.3.22) (1.0.1)\n",
      "Requirement already satisfied: uvloop!=0.15.0,!=0.15.1,>=0.14.0 in /opt/saturncloud/envs/saturn/lib/python3.9/site-packages (from uvicorn[standard]>=0.18.3->chromadb==0.3.22) (0.19.0)\n",
      "Requirement already satisfied: watchfiles>=0.13 in /opt/saturncloud/envs/saturn/lib/python3.9/site-packages (from uvicorn[standard]>=0.18.3->chromadb==0.3.22) (0.21.0)\n",
      "Requirement already satisfied: websockets>=10.4 in /opt/saturncloud/envs/saturn/lib/python3.9/site-packages (from uvicorn[standard]>=0.18.3->chromadb==0.3.22) (12.0)\n",
      "Requirement already satisfied: anyio<5,>=3.4.0 in /opt/saturncloud/envs/saturn/lib/python3.9/site-packages (from starlette<0.36.0,>=0.35.0->fastapi>=0.85.1->chromadb==0.3.22) (3.7.1)\n",
      "Requirement already satisfied: mypy-extensions>=0.3.0 in /opt/saturncloud/envs/saturn/lib/python3.9/site-packages (from typing-inspect<1,>=0.4.0->dataclasses-json<0.6.0,>=0.5.7->langchain==0.0.164) (1.0.0)\n",
      "Requirement already satisfied: MarkupSafe>=2.0 in /opt/saturncloud/envs/saturn/lib/python3.9/site-packages (from jinja2->torch>=1.6.0->accelerate==0.19.0) (2.1.4)\n",
      "Requirement already satisfied: joblib in /opt/saturncloud/envs/saturn/lib/python3.9/site-packages (from nltk->sentence-transformers>=2.2.2->chromadb==0.3.22) (1.3.2)\n",
      "Requirement already satisfied: threadpoolctl>=2.0.0 in /opt/saturncloud/envs/saturn/lib/python3.9/site-packages (from scikit-learn->sentence-transformers>=2.2.2->chromadb==0.3.22) (3.2.0)\n",
      "Requirement already satisfied: mpmath>=0.19 in /opt/saturncloud/envs/saturn/lib/python3.9/site-packages (from sympy->torch>=1.6.0->accelerate==0.19.0) (1.3.0)\n",
      "Requirement already satisfied: pillow!=8.3.*,>=5.3.0 in /opt/saturncloud/envs/saturn/lib/python3.9/site-packages (from torchvision->sentence-transformers>=2.2.2->chromadb==0.3.22) (10.2.0)\n",
      "Requirement already satisfied: sniffio>=1.1 in /opt/saturncloud/envs/saturn/lib/python3.9/site-packages (from anyio<5,>=3.4.0->starlette<0.36.0,>=0.35.0->fastapi>=0.85.1->chromadb==0.3.22) (1.3.0)\n",
      "Requirement already satisfied: exceptiongroup in /opt/saturncloud/envs/saturn/lib/python3.9/site-packages (from anyio<5,>=3.4.0->starlette<0.36.0,>=0.35.0->fastapi>=0.85.1->chromadb==0.3.22) (1.2.0)\n",
      "Using cached langchain-0.0.164-py3-none-any.whl (788 kB)\n",
      "Using cached transformers-4.29.0-py3-none-any.whl (7.1 MB)\n",
      "Using cached dataclasses_json-0.5.14-py3-none-any.whl (26 kB)\n",
      "Using cached numexpr-2.9.0-cp39-cp39-manylinux_2_17_x86_64.manylinux2014_x86_64.whl (374 kB)\n",
      "Using cached pydantic-1.10.14-cp39-cp39-manylinux_2_17_x86_64.manylinux2014_x86_64.whl (3.2 MB)\n",
      "Installing collected packages: tokenizers, pydantic, numexpr, openapi-schema-pydantic, dataclasses-json, transformers, langchain, accelerate\n",
      "  Attempting uninstall: tokenizers\n",
      "    Found existing installation: tokenizers 0.15.1\n",
      "    Uninstalling tokenizers-0.15.1:\n",
      "      Successfully uninstalled tokenizers-0.15.1\n",
      "  Attempting uninstall: pydantic\n",
      "    Found existing installation: pydantic 2.5.3\n",
      "    Uninstalling pydantic-2.5.3:\n",
      "      Successfully uninstalled pydantic-2.5.3\n",
      "  Attempting uninstall: dataclasses-json\n",
      "    Found existing installation: dataclasses-json 0.6.3\n",
      "    Uninstalling dataclasses-json-0.6.3:\n",
      "      Successfully uninstalled dataclasses-json-0.6.3\n",
      "  Attempting uninstall: transformers\n",
      "    Found existing installation: transformers 4.37.2\n",
      "    Uninstalling transformers-4.37.2:\n",
      "      Successfully uninstalled transformers-4.37.2\n",
      "  Attempting uninstall: langchain\n",
      "    Found existing installation: langchain 0.1.7\n",
      "    Uninstalling langchain-0.1.7:\n",
      "      Successfully uninstalled langchain-0.1.7\n",
      "  Attempting uninstall: accelerate\n",
      "    Found existing installation: accelerate 0.27.2\n",
      "    Uninstalling accelerate-0.27.2:\n",
      "      Successfully uninstalled accelerate-0.27.2\n",
      "\u001b[31mERROR: pip's dependency resolver does not currently take into account all the packages that are installed. This behaviour is the source of the following dependency conflicts.\n",
      "peft 0.7.2.dev0 requires accelerate>=0.21.0, but you have accelerate 0.19.0 which is incompatible.\u001b[0m\u001b[31m\n",
      "\u001b[0mSuccessfully installed accelerate-0.19.0 dataclasses-json-0.5.14 langchain-0.0.164 numexpr-2.9.0 openapi-schema-pydantic-1.2.4 pydantic-1.10.14 tokenizers-0.13.3 transformers-4.29.0\n",
      "Note: you may need to restart the kernel to use updated packages.\n"
     ]
    }
   ],
   "source": [
    "%pip install -U chromadb==0.3.22 langchain==0.0.164 transformers==4.29.0 accelerate==0.19.0"
   ]
  },
  {
   "cell_type": "code",
   "execution_count": 1,
   "metadata": {
    "execution": {
     "iopub.execute_input": "2024-02-14T01:54:08.991883Z",
     "iopub.status.busy": "2024-02-14T01:54:08.991478Z",
     "iopub.status.idle": "2024-02-14T01:54:09.669458Z",
     "shell.execute_reply": "2024-02-14T01:54:09.668564Z",
     "shell.execute_reply.started": "2024-02-14T01:54:08.991855Z"
    },
    "id": "c3V7OVMJBnIH",
    "tags": []
   },
   "outputs": [],
   "source": [
    "import pandas as pd\n",
    "import numpy as np"
   ]
  },
  {
   "cell_type": "code",
   "execution_count": 2,
   "metadata": {
    "colab": {
     "base_uri": "https://localhost:8080/",
     "height": 201
    },
    "execution": {
     "iopub.execute_input": "2024-02-14T01:54:09.671714Z",
     "iopub.status.busy": "2024-02-14T01:54:09.671048Z",
     "iopub.status.idle": "2024-02-14T01:54:09.674936Z",
     "shell.execute_reply": "2024-02-14T01:54:09.674316Z",
     "shell.execute_reply.started": "2024-02-14T01:54:09.671688Z"
    },
    "executionInfo": {
     "elapsed": 17,
     "status": "ok",
     "timestamp": 1707847384796,
     "user": {
      "displayName": "Santiago Gamboa",
      "userId": "10773537394585021203"
     },
     "user_tz": 300
    },
    "id": "-BX_ElT4Coep",
    "outputId": "93f45a18-de62-4655-ab00-e3a63a9ad1b3",
    "tags": []
   },
   "outputs": [],
   "source": [
    "#user_docs = pd.read_json('/content/drive/MyDrive/Colab Notebooks/RAG/userdocuments.json')\n",
    "#user_docs = pd.read_json('userdocuments.json')\n",
    "#user_docs.drop(columns='_id', inplace=True)\n",
    "#user_docs.head()"
   ]
  },
  {
   "cell_type": "code",
   "execution_count": 3,
   "metadata": {
    "execution": {
     "iopub.execute_input": "2024-02-14T01:54:09.676172Z",
     "iopub.status.busy": "2024-02-14T01:54:09.675864Z",
     "iopub.status.idle": "2024-02-14T01:54:09.690560Z",
     "shell.execute_reply": "2024-02-14T01:54:09.689828Z",
     "shell.execute_reply.started": "2024-02-14T01:54:09.676148Z"
    },
    "tags": []
   },
   "outputs": [
    {
     "data": {
      "text/html": [
       "<div>\n",
       "<style scoped>\n",
       "    .dataframe tbody tr th:only-of-type {\n",
       "        vertical-align: middle;\n",
       "    }\n",
       "\n",
       "    .dataframe tbody tr th {\n",
       "        vertical-align: top;\n",
       "    }\n",
       "\n",
       "    .dataframe thead th {\n",
       "        text-align: right;\n",
       "    }\n",
       "</style>\n",
       "<table border=\"1\" class=\"dataframe\">\n",
       "  <thead>\n",
       "    <tr style=\"text-align: right;\">\n",
       "      <th></th>\n",
       "      <th>userId</th>\n",
       "      <th>content</th>\n",
       "    </tr>\n",
       "  </thead>\n",
       "  <tbody>\n",
       "    <tr>\n",
       "      <th>0</th>\n",
       "      <td>644ae4cf97c530c581cb0f7c</td>\n",
       "      <td>Este es un pago de 10550 COP para pagar Gas. E...</td>\n",
       "    </tr>\n",
       "    <tr>\n",
       "      <th>1</th>\n",
       "      <td>644ae4cf97c530c581cb0f7c</td>\n",
       "      <td>Este es un pago de 1620000 COP para pagar Arri...</td>\n",
       "    </tr>\n",
       "    <tr>\n",
       "      <th>2</th>\n",
       "      <td>644ae4cf97c530c581cb0f7c</td>\n",
       "      <td>Este es un pago de 133020 COP para pagar Luz. ...</td>\n",
       "    </tr>\n",
       "    <tr>\n",
       "      <th>3</th>\n",
       "      <td>644ae4cf97c530c581cb0f7c</td>\n",
       "      <td>Este es un pago de 79700 COP para pagar Intern...</td>\n",
       "    </tr>\n",
       "    <tr>\n",
       "      <th>4</th>\n",
       "      <td>644ae4cf97c530c581cb0f7c</td>\n",
       "      <td>Este es un pago de 36480 COP para pagar Gas. E...</td>\n",
       "    </tr>\n",
       "  </tbody>\n",
       "</table>\n",
       "</div>"
      ],
      "text/plain": [
       "                     userId                                            content\n",
       "0  644ae4cf97c530c581cb0f7c  Este es un pago de 10550 COP para pagar Gas. E...\n",
       "1  644ae4cf97c530c581cb0f7c  Este es un pago de 1620000 COP para pagar Arri...\n",
       "2  644ae4cf97c530c581cb0f7c  Este es un pago de 133020 COP para pagar Luz. ...\n",
       "3  644ae4cf97c530c581cb0f7c  Este es un pago de 79700 COP para pagar Intern...\n",
       "4  644ae4cf97c530c581cb0f7c  Este es un pago de 36480 COP para pagar Gas. E..."
      ]
     },
     "execution_count": 3,
     "metadata": {},
     "output_type": "execute_result"
    }
   ],
   "source": [
    "with open('payments.csv', 'r') as file:\n",
    "    lines = file.readlines()[1:]\n",
    "\n",
    "# Crear un DataFrame con una columna llamada 'content'\n",
    "user_docs = pd.DataFrame({'userId':'644ae4cf97c530c581cb0f7c', 'content': lines})\n",
    "#user_docs = pd.concat([user_docs, user_fees], ignore_index=True).reset_index(drop=True)\n",
    "user_docs.head()"
   ]
  },
  {
   "cell_type": "code",
   "execution_count": 9,
   "metadata": {
    "execution": {
     "iopub.execute_input": "2024-02-14T01:55:25.089817Z",
     "iopub.status.busy": "2024-02-14T01:55:25.089424Z",
     "iopub.status.idle": "2024-02-14T01:55:28.325669Z",
     "shell.execute_reply": "2024-02-14T01:55:28.324724Z",
     "shell.execute_reply.started": "2024-02-14T01:55:25.089793Z"
    },
    "id": "AivuApLLCzjd",
    "jupyter": {
     "source_hidden": true
    },
    "tags": []
   },
   "outputs": [],
   "source": [
    "from langchain.embeddings import HuggingFaceEmbeddings\n",
    "\n",
    "#hf_embed = HuggingFaceEmbeddings(model_name=\"sentence-transformers/paraphrase-multilingual-mpnet-base-v2\")\n",
    "hf_embed = HuggingFaceEmbeddings(model_name=\"sentence-transformers/all-mpnet-base-v2\")"
   ]
  },
  {
   "cell_type": "code",
   "execution_count": 10,
   "metadata": {
    "colab": {
     "background_save": true,
     "base_uri": "https://localhost:8080/"
    },
    "execution": {
     "iopub.execute_input": "2024-02-14T01:55:28.328097Z",
     "iopub.status.busy": "2024-02-14T01:55:28.327332Z",
     "iopub.status.idle": "2024-02-14T01:55:29.347935Z",
     "shell.execute_reply": "2024-02-14T01:55:29.346931Z",
     "shell.execute_reply.started": "2024-02-14T01:55:28.328064Z"
    },
    "id": "D6GzlATpGkm6",
    "tags": []
   },
   "outputs": [
    {
     "name": "stderr",
     "output_type": "stream",
     "text": [
      "Using embedded DuckDB with persistence: data will be stored in: ./vectordb\n"
     ]
    },
    {
     "name": "stdout",
     "output_type": "stream",
     "text": [
      "Document embedding saved under ./vectordb\n"
     ]
    }
   ],
   "source": [
    "from langchain.docstore.document import Document\n",
    "from langchain.vectorstores import Chroma\n",
    "\n",
    "documents = [Document(page_content=text, metadata={\"source\": source}) for text, source in zip(user_docs.content, user_docs.userId)]\n",
    "\n",
    "#vector_db_path = '/content/drive/MyDrive/Colab Notebooks/RAG/Vector DB'\n",
    "vector_db_path = './vectordb'\n",
    "db = Chroma.from_documents(collection_name=\"user_docs\", documents = documents, embedding=hf_embed, persist_directory=vector_db_path)\n",
    "\n",
    "#db.similarity_search('dummy')\n",
    "\n",
    "db.persist()\n",
    "\n",
    "print(f\"Document embedding saved under {vector_db_path}\")\n"
   ]
  },
  {
   "cell_type": "code",
   "execution_count": 12,
   "metadata": {
    "colab": {
     "background_save": true
    },
    "execution": {
     "iopub.execute_input": "2024-02-14T01:55:44.495155Z",
     "iopub.status.busy": "2024-02-14T01:55:44.494759Z",
     "iopub.status.idle": "2024-02-14T01:55:44.516174Z",
     "shell.execute_reply": "2024-02-14T01:55:44.515292Z",
     "shell.execute_reply.started": "2024-02-14T01:55:44.495128Z"
    },
    "id": "9pxjBrfKIq0m",
    "tags": []
   },
   "outputs": [
    {
     "name": "stdout",
     "output_type": "stream",
     "text": [
      "Este es un pago de 2620200 COP para pagar Arriendo. Es un pago recurrente para pagar los días 3. La forma de hacer este pago es Entrar a Vélez Osorio página y pago por PSE ingresando está CC 1020839613. Pago realizado el 3 de Noviembre de 2023.\n",
      "\n",
      "Este es un pago de 2817700 COP para pagar Arriendo. Es un pago recurrente para pagar los días 3. La forma de hacer este pago es Entrar a Vélez Osorio página y pago por PSE ingresando está CC 1020839613. Pago realizado el 2 de Agosto de 2023.\n",
      "\n"
     ]
    }
   ],
   "source": [
    "\n",
    "def get_similar_docs(question, similar_doc_count):\n",
    "\n",
    "  return db.similarity_search(question, k=similar_doc_count)\n",
    "\n",
    "for doc in get_similar_docs('pago de arriendo', 2):\n",
    "  print(doc.page_content)\n"
   ]
  },
  {
   "cell_type": "code",
   "execution_count": null,
   "metadata": {},
   "outputs": [],
   "source": []
  }
 ],
 "metadata": {
  "colab": {
   "authorship_tag": "ABX9TyMV+5OAC2K5r5Qv4N4T/v1t",
   "mount_file_id": "1t6ZplHWMC1V3qDvxl7C176wLTa-F13KB",
   "name": "",
   "version": ""
  },
  "kernelspec": {
   "display_name": "saturn (Python 3)",
   "language": "python",
   "name": "python3"
  },
  "language_info": {
   "codemirror_mode": {
    "name": "ipython",
    "version": 3
   },
   "file_extension": ".py",
   "mimetype": "text/x-python",
   "name": "python",
   "nbconvert_exporter": "python",
   "pygments_lexer": "ipython3",
   "version": "3.9.18"
  }
 },
 "nbformat": 4,
 "nbformat_minor": 4
}
