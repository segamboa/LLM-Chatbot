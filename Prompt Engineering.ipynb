{
 "cells": [
  {
   "cell_type": "code",
   "execution_count": 2,
   "metadata": {
    "colab": {
     "base_uri": "https://localhost:8080/"
    },
    "execution": {
     "iopub.execute_input": "2024-02-14T01:00:40.481927Z",
     "iopub.status.busy": "2024-02-14T01:00:40.481547Z",
     "iopub.status.idle": "2024-02-14T01:00:44.934829Z",
     "shell.execute_reply": "2024-02-14T01:00:44.933848Z",
     "shell.execute_reply.started": "2024-02-14T01:00:40.481900Z"
    },
    "executionInfo": {
     "elapsed": 16956,
     "status": "ok",
     "timestamp": 1707845702756,
     "user": {
      "displayName": "Santiago Gamboa",
      "userId": "10773537394585021203"
     },
     "user_tz": 300
    },
    "id": "TF-w4Xs5OUjD",
    "outputId": "9394fa09-3c94-48ba-f685-ac2c0919e2f4",
    "tags": []
   },
   "outputs": [
    {
     "name": "stdout",
     "output_type": "stream",
     "text": [
      "Collecting chromadb==0.3.22\n",
      "  Using cached chromadb-0.3.22-py3-none-any.whl (69 kB)\n",
      "Requirement already satisfied: langchain in /opt/saturncloud/envs/saturn/lib/python3.9/site-packages (0.1.7)\n",
      "Requirement already satisfied: transformers in /opt/saturncloud/envs/saturn/lib/python3.9/site-packages (4.37.2)\n",
      "Requirement already satisfied: accelerate in /opt/saturncloud/envs/saturn/lib/python3.9/site-packages (0.27.2)\n",
      "Requirement already satisfied: pandas>=1.3 in /opt/saturncloud/envs/saturn/lib/python3.9/site-packages (from chromadb==0.3.22) (2.2.0)\n",
      "Requirement already satisfied: requests>=2.28 in /opt/saturncloud/envs/saturn/lib/python3.9/site-packages (from chromadb==0.3.22) (2.31.0)\n",
      "Requirement already satisfied: pydantic>=1.9 in /opt/saturncloud/envs/saturn/lib/python3.9/site-packages (from chromadb==0.3.22) (2.5.3)\n",
      "Requirement already satisfied: hnswlib>=0.7 in /opt/saturncloud/envs/saturn/lib/python3.9/site-packages (from chromadb==0.3.22) (0.8.0)\n",
      "Requirement already satisfied: clickhouse-connect>=0.5.7 in /opt/saturncloud/envs/saturn/lib/python3.9/site-packages (from chromadb==0.3.22) (0.7.0)\n",
      "Requirement already satisfied: sentence-transformers>=2.2.2 in /opt/saturncloud/envs/saturn/lib/python3.9/site-packages (from chromadb==0.3.22) (2.2.2)\n",
      "Requirement already satisfied: duckdb>=0.7.1 in /opt/saturncloud/envs/saturn/lib/python3.9/site-packages (from chromadb==0.3.22) (0.10.0)\n",
      "Requirement already satisfied: fastapi>=0.85.1 in /opt/saturncloud/envs/saturn/lib/python3.9/site-packages (from chromadb==0.3.22) (0.109.0)\n",
      "Requirement already satisfied: uvicorn>=0.18.3 in /opt/saturncloud/envs/saturn/lib/python3.9/site-packages (from uvicorn[standard]>=0.18.3->chromadb==0.3.22) (0.27.0)\n",
      "Requirement already satisfied: numpy>=1.21.6 in /opt/saturncloud/envs/saturn/lib/python3.9/site-packages (from chromadb==0.3.22) (1.24.4)\n",
      "Requirement already satisfied: posthog>=2.4.0 in /opt/saturncloud/envs/saturn/lib/python3.9/site-packages (from chromadb==0.3.22) (3.4.1)\n",
      "Requirement already satisfied: typing-extensions>=4.5.0 in /opt/saturncloud/envs/saturn/lib/python3.9/site-packages (from chromadb==0.3.22) (4.9.0)\n",
      "Requirement already satisfied: PyYAML>=5.3 in /opt/saturncloud/envs/saturn/lib/python3.9/site-packages (from langchain) (6.0.1)\n",
      "Requirement already satisfied: SQLAlchemy<3,>=1.4 in /opt/saturncloud/envs/saturn/lib/python3.9/site-packages (from langchain) (2.0.25)\n",
      "Requirement already satisfied: aiohttp<4.0.0,>=3.8.3 in /opt/saturncloud/envs/saturn/lib/python3.9/site-packages (from langchain) (3.9.1)\n",
      "Requirement already satisfied: async-timeout<5.0.0,>=4.0.0 in /opt/saturncloud/envs/saturn/lib/python3.9/site-packages (from langchain) (4.0.3)\n",
      "Requirement already satisfied: dataclasses-json<0.7,>=0.5.7 in /opt/saturncloud/envs/saturn/lib/python3.9/site-packages (from langchain) (0.6.3)\n",
      "Requirement already satisfied: jsonpatch<2.0,>=1.33 in /opt/saturncloud/envs/saturn/lib/python3.9/site-packages (from langchain) (1.33)\n",
      "Requirement already satisfied: langchain-community<0.1,>=0.0.20 in /opt/saturncloud/envs/saturn/lib/python3.9/site-packages (from langchain) (0.0.20)\n",
      "Requirement already satisfied: langchain-core<0.2,>=0.1.22 in /opt/saturncloud/envs/saturn/lib/python3.9/site-packages (from langchain) (0.1.23)\n",
      "Requirement already satisfied: langsmith<0.1,>=0.0.83 in /opt/saturncloud/envs/saturn/lib/python3.9/site-packages (from langchain) (0.0.87)\n",
      "Requirement already satisfied: tenacity<9.0.0,>=8.1.0 in /opt/saturncloud/envs/saturn/lib/python3.9/site-packages (from langchain) (8.2.3)\n",
      "Requirement already satisfied: filelock in /opt/saturncloud/envs/saturn/lib/python3.9/site-packages (from transformers) (3.13.1)\n",
      "Requirement already satisfied: huggingface-hub<1.0,>=0.19.3 in /opt/saturncloud/envs/saturn/lib/python3.9/site-packages (from transformers) (0.20.3)\n",
      "Requirement already satisfied: packaging>=20.0 in /opt/saturncloud/envs/saturn/lib/python3.9/site-packages (from transformers) (23.2)\n",
      "Requirement already satisfied: regex!=2019.12.17 in /opt/saturncloud/envs/saturn/lib/python3.9/site-packages (from transformers) (2023.12.25)\n",
      "Requirement already satisfied: tokenizers<0.19,>=0.14 in /opt/saturncloud/envs/saturn/lib/python3.9/site-packages (from transformers) (0.15.1)\n",
      "Requirement already satisfied: safetensors>=0.4.1 in /opt/saturncloud/envs/saturn/lib/python3.9/site-packages (from transformers) (0.4.2)\n",
      "Requirement already satisfied: tqdm>=4.27 in /opt/saturncloud/envs/saturn/lib/python3.9/site-packages (from transformers) (4.66.1)\n",
      "Requirement already satisfied: psutil in /opt/saturncloud/envs/saturn/lib/python3.9/site-packages (from accelerate) (5.9.8)\n",
      "Requirement already satisfied: torch>=1.10.0 in /opt/saturncloud/envs/saturn/lib/python3.9/site-packages (from accelerate) (2.1.2)\n",
      "Requirement already satisfied: attrs>=17.3.0 in /opt/saturncloud/envs/saturn/lib/python3.9/site-packages (from aiohttp<4.0.0,>=3.8.3->langchain) (23.2.0)\n",
      "Requirement already satisfied: multidict<7.0,>=4.5 in /opt/saturncloud/envs/saturn/lib/python3.9/site-packages (from aiohttp<4.0.0,>=3.8.3->langchain) (6.0.4)\n",
      "Requirement already satisfied: yarl<2.0,>=1.0 in /opt/saturncloud/envs/saturn/lib/python3.9/site-packages (from aiohttp<4.0.0,>=3.8.3->langchain) (1.9.4)\n",
      "Requirement already satisfied: frozenlist>=1.1.1 in /opt/saturncloud/envs/saturn/lib/python3.9/site-packages (from aiohttp<4.0.0,>=3.8.3->langchain) (1.4.1)\n",
      "Requirement already satisfied: aiosignal>=1.1.2 in /opt/saturncloud/envs/saturn/lib/python3.9/site-packages (from aiohttp<4.0.0,>=3.8.3->langchain) (1.3.1)\n",
      "Requirement already satisfied: certifi in /opt/saturncloud/envs/saturn/lib/python3.9/site-packages (from clickhouse-connect>=0.5.7->chromadb==0.3.22) (2023.11.17)\n",
      "Requirement already satisfied: urllib3>=1.26 in /opt/saturncloud/envs/saturn/lib/python3.9/site-packages (from clickhouse-connect>=0.5.7->chromadb==0.3.22) (2.1.0)\n",
      "Requirement already satisfied: pytz in /opt/saturncloud/envs/saturn/lib/python3.9/site-packages (from clickhouse-connect>=0.5.7->chromadb==0.3.22) (2023.3.post1)\n",
      "Requirement already satisfied: zstandard in /opt/saturncloud/envs/saturn/lib/python3.9/site-packages (from clickhouse-connect>=0.5.7->chromadb==0.3.22) (0.22.0)\n",
      "Requirement already satisfied: lz4 in /opt/saturncloud/envs/saturn/lib/python3.9/site-packages (from clickhouse-connect>=0.5.7->chromadb==0.3.22) (4.3.3)\n",
      "Requirement already satisfied: marshmallow<4.0.0,>=3.18.0 in /opt/saturncloud/envs/saturn/lib/python3.9/site-packages (from dataclasses-json<0.7,>=0.5.7->langchain) (3.20.2)\n",
      "Requirement already satisfied: typing-inspect<1,>=0.4.0 in /opt/saturncloud/envs/saturn/lib/python3.9/site-packages (from dataclasses-json<0.7,>=0.5.7->langchain) (0.9.0)\n",
      "Requirement already satisfied: starlette<0.36.0,>=0.35.0 in /opt/saturncloud/envs/saturn/lib/python3.9/site-packages (from fastapi>=0.85.1->chromadb==0.3.22) (0.35.1)\n",
      "Requirement already satisfied: fsspec>=2023.5.0 in /opt/saturncloud/envs/saturn/lib/python3.9/site-packages (from huggingface-hub<1.0,>=0.19.3->transformers) (2024.2.0)\n",
      "Requirement already satisfied: jsonpointer>=1.9 in /opt/saturncloud/envs/saturn/lib/python3.9/site-packages (from jsonpatch<2.0,>=1.33->langchain) (2.4)\n",
      "Requirement already satisfied: anyio<5,>=3 in /opt/saturncloud/envs/saturn/lib/python3.9/site-packages (from langchain-core<0.2,>=0.1.22->langchain) (3.7.1)\n",
      "Requirement already satisfied: python-dateutil>=2.8.2 in /opt/saturncloud/envs/saturn/lib/python3.9/site-packages (from pandas>=1.3->chromadb==0.3.22) (2.8.2)\n",
      "Requirement already satisfied: tzdata>=2022.7 in /opt/saturncloud/envs/saturn/lib/python3.9/site-packages (from pandas>=1.3->chromadb==0.3.22) (2023.4)\n",
      "Requirement already satisfied: six>=1.5 in /opt/saturncloud/envs/saturn/lib/python3.9/site-packages (from posthog>=2.4.0->chromadb==0.3.22) (1.16.0)\n",
      "Requirement already satisfied: monotonic>=1.5 in /opt/saturncloud/envs/saturn/lib/python3.9/site-packages (from posthog>=2.4.0->chromadb==0.3.22) (1.6)\n",
      "Requirement already satisfied: backoff>=1.10.0 in /opt/saturncloud/envs/saturn/lib/python3.9/site-packages (from posthog>=2.4.0->chromadb==0.3.22) (2.2.1)\n",
      "Requirement already satisfied: annotated-types>=0.4.0 in /opt/saturncloud/envs/saturn/lib/python3.9/site-packages (from pydantic>=1.9->chromadb==0.3.22) (0.6.0)\n",
      "Requirement already satisfied: pydantic-core==2.14.6 in /opt/saturncloud/envs/saturn/lib/python3.9/site-packages (from pydantic>=1.9->chromadb==0.3.22) (2.14.6)\n",
      "Requirement already satisfied: charset-normalizer<4,>=2 in /opt/saturncloud/envs/saturn/lib/python3.9/site-packages (from requests>=2.28->chromadb==0.3.22) (3.3.2)\n",
      "Requirement already satisfied: idna<4,>=2.5 in /opt/saturncloud/envs/saturn/lib/python3.9/site-packages (from requests>=2.28->chromadb==0.3.22) (3.6)\n",
      "Requirement already satisfied: torchvision in /opt/saturncloud/envs/saturn/lib/python3.9/site-packages (from sentence-transformers>=2.2.2->chromadb==0.3.22) (0.16.2)\n",
      "Requirement already satisfied: scikit-learn in /opt/saturncloud/envs/saturn/lib/python3.9/site-packages (from sentence-transformers>=2.2.2->chromadb==0.3.22) (1.4.0)\n",
      "Requirement already satisfied: scipy in /opt/saturncloud/envs/saturn/lib/python3.9/site-packages (from sentence-transformers>=2.2.2->chromadb==0.3.22) (1.12.0)\n",
      "Requirement already satisfied: nltk in /opt/saturncloud/envs/saturn/lib/python3.9/site-packages (from sentence-transformers>=2.2.2->chromadb==0.3.22) (3.8.1)\n",
      "Requirement already satisfied: sentencepiece in /opt/saturncloud/envs/saturn/lib/python3.9/site-packages (from sentence-transformers>=2.2.2->chromadb==0.3.22) (0.1.99)\n",
      "Requirement already satisfied: greenlet!=0.4.17 in /opt/saturncloud/envs/saturn/lib/python3.9/site-packages (from SQLAlchemy<3,>=1.4->langchain) (3.0.3)\n",
      "Requirement already satisfied: sympy in /opt/saturncloud/envs/saturn/lib/python3.9/site-packages (from torch>=1.10.0->accelerate) (1.12)\n",
      "Requirement already satisfied: networkx in /opt/saturncloud/envs/saturn/lib/python3.9/site-packages (from torch>=1.10.0->accelerate) (3.2.1)\n",
      "Requirement already satisfied: jinja2 in /opt/saturncloud/envs/saturn/lib/python3.9/site-packages (from torch>=1.10.0->accelerate) (3.1.3)\n",
      "Requirement already satisfied: nvidia-cuda-nvrtc-cu12==12.1.105 in /opt/saturncloud/envs/saturn/lib/python3.9/site-packages (from torch>=1.10.0->accelerate) (12.1.105)\n",
      "Requirement already satisfied: nvidia-cuda-runtime-cu12==12.1.105 in /opt/saturncloud/envs/saturn/lib/python3.9/site-packages (from torch>=1.10.0->accelerate) (12.1.105)\n",
      "Requirement already satisfied: nvidia-cuda-cupti-cu12==12.1.105 in /opt/saturncloud/envs/saturn/lib/python3.9/site-packages (from torch>=1.10.0->accelerate) (12.1.105)\n",
      "Requirement already satisfied: nvidia-cudnn-cu12==8.9.2.26 in /opt/saturncloud/envs/saturn/lib/python3.9/site-packages (from torch>=1.10.0->accelerate) (8.9.2.26)\n",
      "Requirement already satisfied: nvidia-cublas-cu12==12.1.3.1 in /opt/saturncloud/envs/saturn/lib/python3.9/site-packages (from torch>=1.10.0->accelerate) (12.1.3.1)\n",
      "Requirement already satisfied: nvidia-cufft-cu12==11.0.2.54 in /opt/saturncloud/envs/saturn/lib/python3.9/site-packages (from torch>=1.10.0->accelerate) (11.0.2.54)\n",
      "Requirement already satisfied: nvidia-curand-cu12==10.3.2.106 in /opt/saturncloud/envs/saturn/lib/python3.9/site-packages (from torch>=1.10.0->accelerate) (10.3.2.106)\n",
      "Requirement already satisfied: nvidia-cusolver-cu12==11.4.5.107 in /opt/saturncloud/envs/saturn/lib/python3.9/site-packages (from torch>=1.10.0->accelerate) (11.4.5.107)\n",
      "Requirement already satisfied: nvidia-cusparse-cu12==12.1.0.106 in /opt/saturncloud/envs/saturn/lib/python3.9/site-packages (from torch>=1.10.0->accelerate) (12.1.0.106)\n",
      "Requirement already satisfied: nvidia-nccl-cu12==2.18.1 in /opt/saturncloud/envs/saturn/lib/python3.9/site-packages (from torch>=1.10.0->accelerate) (2.18.1)\n",
      "Requirement already satisfied: nvidia-nvtx-cu12==12.1.105 in /opt/saturncloud/envs/saturn/lib/python3.9/site-packages (from torch>=1.10.0->accelerate) (12.1.105)\n",
      "Requirement already satisfied: triton==2.1.0 in /opt/saturncloud/envs/saturn/lib/python3.9/site-packages (from torch>=1.10.0->accelerate) (2.1.0)\n",
      "Requirement already satisfied: nvidia-nvjitlink-cu12 in /opt/saturncloud/envs/saturn/lib/python3.9/site-packages (from nvidia-cusolver-cu12==11.4.5.107->torch>=1.10.0->accelerate) (12.3.101)\n",
      "Requirement already satisfied: click>=7.0 in /opt/saturncloud/envs/saturn/lib/python3.9/site-packages (from uvicorn>=0.18.3->uvicorn[standard]>=0.18.3->chromadb==0.3.22) (8.1.7)\n",
      "Requirement already satisfied: h11>=0.8 in /opt/saturncloud/envs/saturn/lib/python3.9/site-packages (from uvicorn>=0.18.3->uvicorn[standard]>=0.18.3->chromadb==0.3.22) (0.14.0)\n",
      "Requirement already satisfied: httptools>=0.5.0 in /opt/saturncloud/envs/saturn/lib/python3.9/site-packages (from uvicorn[standard]>=0.18.3->chromadb==0.3.22) (0.6.1)\n",
      "Requirement already satisfied: python-dotenv>=0.13 in /opt/saturncloud/envs/saturn/lib/python3.9/site-packages (from uvicorn[standard]>=0.18.3->chromadb==0.3.22) (1.0.1)\n",
      "Requirement already satisfied: uvloop!=0.15.0,!=0.15.1,>=0.14.0 in /opt/saturncloud/envs/saturn/lib/python3.9/site-packages (from uvicorn[standard]>=0.18.3->chromadb==0.3.22) (0.19.0)\n",
      "Requirement already satisfied: watchfiles>=0.13 in /opt/saturncloud/envs/saturn/lib/python3.9/site-packages (from uvicorn[standard]>=0.18.3->chromadb==0.3.22) (0.21.0)\n",
      "Requirement already satisfied: websockets>=10.4 in /opt/saturncloud/envs/saturn/lib/python3.9/site-packages (from uvicorn[standard]>=0.18.3->chromadb==0.3.22) (12.0)\n",
      "Requirement already satisfied: sniffio>=1.1 in /opt/saturncloud/envs/saturn/lib/python3.9/site-packages (from anyio<5,>=3->langchain-core<0.2,>=0.1.22->langchain) (1.3.0)\n",
      "Requirement already satisfied: exceptiongroup in /opt/saturncloud/envs/saturn/lib/python3.9/site-packages (from anyio<5,>=3->langchain-core<0.2,>=0.1.22->langchain) (1.2.0)\n",
      "Requirement already satisfied: mypy-extensions>=0.3.0 in /opt/saturncloud/envs/saturn/lib/python3.9/site-packages (from typing-inspect<1,>=0.4.0->dataclasses-json<0.7,>=0.5.7->langchain) (1.0.0)\n",
      "Requirement already satisfied: MarkupSafe>=2.0 in /opt/saturncloud/envs/saturn/lib/python3.9/site-packages (from jinja2->torch>=1.10.0->accelerate) (2.1.4)\n",
      "Requirement already satisfied: joblib in /opt/saturncloud/envs/saturn/lib/python3.9/site-packages (from nltk->sentence-transformers>=2.2.2->chromadb==0.3.22) (1.3.2)\n",
      "Requirement already satisfied: threadpoolctl>=2.0.0 in /opt/saturncloud/envs/saturn/lib/python3.9/site-packages (from scikit-learn->sentence-transformers>=2.2.2->chromadb==0.3.22) (3.2.0)\n",
      "Requirement already satisfied: mpmath>=0.19 in /opt/saturncloud/envs/saturn/lib/python3.9/site-packages (from sympy->torch>=1.10.0->accelerate) (1.3.0)\n",
      "Requirement already satisfied: pillow!=8.3.*,>=5.3.0 in /opt/saturncloud/envs/saturn/lib/python3.9/site-packages (from torchvision->sentence-transformers>=2.2.2->chromadb==0.3.22) (10.2.0)\n",
      "Installing collected packages: chromadb\n",
      "  Attempting uninstall: chromadb\n",
      "    Found existing installation: chromadb 0.4.22\n",
      "    Uninstalling chromadb-0.4.22:\n",
      "      Successfully uninstalled chromadb-0.4.22\n",
      "Successfully installed chromadb-0.3.22\n",
      "Note: you may need to restart the kernel to use updated packages.\n"
     ]
    }
   ],
   "source": [
    "#%pip install -U chromadb==0.3.22 langchain accelerate transformers bitsandbytes\n",
    "%pip install -U chromadb==0.3.22 langchain transformers accelerate"
   ]
  },
  {
   "cell_type": "code",
   "execution_count": 1,
   "metadata": {
    "colab": {
     "base_uri": "https://localhost:8080/"
    },
    "execution": {
     "iopub.execute_input": "2024-02-14T03:18:59.629226Z",
     "iopub.status.busy": "2024-02-14T03:18:59.628768Z",
     "iopub.status.idle": "2024-02-14T03:19:09.603448Z",
     "shell.execute_reply": "2024-02-14T03:19:09.602807Z",
     "shell.execute_reply.started": "2024-02-14T03:18:59.629190Z"
    },
    "executionInfo": {
     "elapsed": 8923,
     "status": "ok",
     "timestamp": 1707845711670,
     "user": {
      "displayName": "Santiago Gamboa",
      "userId": "10773537394585021203"
     },
     "user_tz": 300
    },
    "id": "uaJt8w5tOX1K",
    "outputId": "ec8e8a21-cd34-491e-f48b-2c6a5c7d8251",
    "tags": []
   },
   "outputs": [
    {
     "name": "stderr",
     "output_type": "stream",
     "text": [
      "Using embedded DuckDB with persistence: data will be stored in: ./vectordb\n"
     ]
    }
   ],
   "source": [
    "from langchain.docstore.document import Document\n",
    "from langchain.vectorstores import Chroma\n",
    "from langchain.embeddings import HuggingFaceEmbeddings\n",
    "#from langchain_community.embeddings.sentence_transformer import (\n",
    "#    SentenceTransformerEmbeddings,\n",
    "#)\n",
    "\n",
    "#vector_db_path = '/content/drive/MyDrive/Colab Notebooks/RAG/Vector DB'\n",
    "vector_db_path = './vectordb'\n",
    "\n",
    "#hf_embed = HuggingFaceEmbeddings(model_name=\"sentence-transformers/paraphrase-multilingual-mpnet-base-v2\")\n",
    "#hf_embed = HuggingFaceEmbeddings(model_name=\"sentence-transformers/all-mpnet-base-v2\")\n",
    "hf_embed = HuggingFaceEmbeddings(model_name=\"sentence-transformers/all-mpnet-base-v2\")\n",
    "db = Chroma(collection_name=\"user_docs\", embedding_function=hf_embed, persist_directory=vector_db_path)"
   ]
  },
  {
   "cell_type": "code",
   "execution_count": 2,
   "metadata": {
    "execution": {
     "iopub.execute_input": "2024-02-14T03:19:09.605381Z",
     "iopub.status.busy": "2024-02-14T03:19:09.604938Z",
     "iopub.status.idle": "2024-02-14T03:19:10.450871Z",
     "shell.execute_reply": "2024-02-14T03:19:10.449919Z",
     "shell.execute_reply.started": "2024-02-14T03:19:09.605352Z"
    },
    "id": "cg7AJDoNOXuG",
    "tags": []
   },
   "outputs": [
    {
     "name": "stdout",
     "output_type": "stream",
     "text": [
      "Este es un pago de 46190 COP para pagar Gas. Es un pago recurrente para pagar los días 18. El número de factura es 61692633 y el provedor del servicio es Vanti - Gas Natural Bogotá. Pago realizado el 16 de Diciembre de 2023.\n",
      "\n",
      "Este es un pago de 77940 COP para pagar Gas Vanti. Es un pago recurrente para pagar los días 10. El número de factura es 61594344 y el provedor del servicio es Vanti - Gas Natural Bogotá. Pago realizado el 8 de Diciembre de 2023.\n",
      "\n",
      "Este es un pago de 19440 COP para pagar Gas - Vanti. Es un pago recurrente para pagar los días 9. El número de factura es 61486371 y el provedor del servicio es Vanti - Gas Natural Bogotá. Pago realizado el 7 de Diciembre de 2023.\n",
      "\n",
      "Este es un pago de 46450 COP para pagar Gas. Es un pago recurrente para pagar los días 18. El número de factura es 61692633 y el provedor del servicio es Vanti - Gas Natural Bogotá. Pago realizado el 17 de Octubre de 2023.\n",
      "\n",
      "Este es un pago de 38770 COP para pagar Gas vanti. Es un pago recurrente para pagar los días 6. El número de factura es 62115717 y el provedor del servicio es Vanti - Gas Natural Bogotá. Pago realizado el 6 de Diciembre de 2023.\n",
      "\n",
      "Este es un pago de 21660 COP para pagar Gas- vanti. Es un pago recurrente para pagar los días 5. El número de factura es 63516511 y el provedor del servicio es Vanti - Gas Natural Bogotá. Pago realizado el 3 de Noviembre de 2023.\n",
      "\n",
      "Este es un pago de 18600 COP para pagar Gas- vanti. Es un pago recurrente para pagar los días 5. El número de factura es 63516511 y el provedor del servicio es Vanti - Gas Natural Bogotá. Pago realizado el 5 de Diciembre de 2023.\n",
      "\n",
      "Este es un pago de 54900 COP para pagar Gas Vanti. Es un pago recurrente para pagar los días 10. El número de factura es 61594344 y el provedor del servicio es Vanti - Gas Natural Bogotá. Pago realizado el 8 de Enero de 2024.\n",
      "\n",
      "Este es un pago de 50400 COP para pagar Gas. Es un pago recurrente para pagar los días 18. El número de factura es 61692633 y el provedor del servicio es Vanti - Gas Natural Bogotá. Pago realizado el 16 de Noviembre de 2023.\n",
      "\n",
      "Este es un pago de 18630 COP para pagar Gas- vanti. Es un pago recurrente para pagar los días 5. El número de factura es 63516511 y el provedor del servicio es Vanti - Gas Natural Bogotá. Pago realizado el 5 de Octubre de 2023.\n",
      "\n",
      "Este es un pago de 27220 COP para pagar Gas- vanti. Es un pago recurrente para pagar los días 5. El número de factura es 63516511 y el provedor del servicio es Vanti - Gas Natural Bogotá. Pago realizado el 10 de Enero de 2024.\n",
      "\n",
      "Este es un pago de 32090 COP para pagar Gas vanti. Es un pago recurrente para pagar los días 6. El número de factura es 62115717 y el provedor del servicio es Vanti - Gas Natural Bogotá. Pago realizado el 6 de Enero de 2024.\n",
      "\n"
     ]
    }
   ],
   "source": [
    "\n",
    "def get_similar_docs(question, similar_doc_count):\n",
    "  return db.similarity_search(question, k=similar_doc_count)\n",
    "\n",
    "for doc in get_similar_docs(\"pago del gas\", 12):\n",
    "  print(doc.page_content)\n"
   ]
  },
  {
   "cell_type": "code",
   "execution_count": 3,
   "metadata": {
    "execution": {
     "iopub.execute_input": "2024-02-14T03:19:10.452244Z",
     "iopub.status.busy": "2024-02-14T03:19:10.451913Z",
     "iopub.status.idle": "2024-02-14T03:19:10.495095Z",
     "shell.execute_reply": "2024-02-14T03:19:10.494478Z",
     "shell.execute_reply.started": "2024-02-14T03:19:10.452219Z"
    },
    "id": "dSMVqMOXOXCZ",
    "tags": []
   },
   "outputs": [],
   "source": [
    "from transformers import AutoTokenizer, AutoModelForCausalLM, pipeline, BitsAndBytesConfig\n",
    "import torch\n",
    "from langchain import PromptTemplate\n",
    "from langchain.llms import HuggingFacePipeline\n",
    "from langchain.chains.question_answering import load_qa_chain\n",
    "from datetime import datetime\n",
    "\n",
    "\n",
    "def build_qa_chain():\n",
    "  torch.cuda.empty_cache()\n",
    "  model_name = 'databricks/dolly-v2-3b'\n",
    "  \"\"\"  quantization_config = BitsAndBytesConfig(\n",
    "    load_in_4bit=True,\n",
    "    bnb_4bit_compute_dtype=torch.float16,\n",
    "    bnb_4bit_quant_type=\"nf4\",\n",
    "    bnb_4bit_use_double_quant=True,\n",
    "  )\"\"\"\n",
    "  #model = AutoModelForCausalLM.from_pretrained(model_name, torch_dtype=torch.float16, device_map=\"auto\", quantization_config=quantization_config)\n",
    "   \n",
    "  instruct_pipeline = pipeline(model=model_name, trust_remote_code=True, device_map=\"auto\",\n",
    "                                return_full_text=True, max_new_tokens=256, top_p=0.95, top_k=1)\n",
    "\n",
    "  template = \"\"\"Debajo hay una instrucción que describe un pago específico. Utiliza la información detallada para responder la pregunta al final.\n",
    "\n",
    "  Instrucción:\n",
    "  Recibiras una pregunta relacionada al pago de algun servicio como agua, gas, internet, arriendo y otros. Debes dar solucion a la peticion de la persona teniendo en cuenta que el formato en el que tienes el contexto, el cual puede ser de la forma:\n",
    "  Este es un pago de (amount) para pagar (service). Es un pago recurrente para pagar los días (payment_day). El número de factura es (invoice_number) y el proveedor del servicio es (service_provider). El pago fue realizado el (payment_date). Usa esta\n",
    "  informacion para responder la pregunta. \n",
    "  Si recibes multiples facturas en el contexto, utiliza la información de la factura con la fecha más actual.\n",
    "  Si te piden el total pagado en los ultimos 'n' meses, suma el valor de las ultimas 'n' facturas.\n",
    "  La fecha de hoy es {date}. Usa esta fecha para evaluar las respuestas, por ejemplo. 3 de noviembre de 2023 es mas actual que 3 de agosto de 2023.\n",
    "  Si nos sabes la respuesta, admitelo.\n",
    "  \n",
    "  Ejemplos:\n",
    "  Contexto: Este es un pago de (amount) COP para pagar (service). Es un pago recurrente para pagar los días (payment_day). La forma de hacer este pago es Entrar a Vélez Osorio página y pago por PSE ingresando está CC 1020839613. Pago realizado el (payment_date).\n",
    "  Pregunta: ¿Cuánto he gastado en el mes pasado en (service)?\n",
    "  Respuesta: El mes pasado has gastado (amount) COP en (service).\n",
    "  \n",
    "  Contexto: Este es un pago de (amount) COP para pagar (service). Es un pago recurrente para pagar los días (payment_day). La forma de hacer este pago es Entrar a Vélez Osorio página y pago por PSE ingresando está CC 1010145723. Pago realizado el (payment_date).\n",
    "  Pregunta: ¿Cuánto he gastado en el mes pasado en (service)?\n",
    "  Respuesta: El mes pasado has gastado (amount) COP en (service).\n",
    "  \n",
    "  Contexto: Este es un pago de (amount) COP para pagar (service). Es un pago recurrente para pagar los días (payment_day). El número de factura es (invoice_number) y el provedor del servicio es (service_provider). Pago realizado el (payment_date).\n",
    "  Pregunta: ¿Cuánto he gastado en el mes pasado en (service)?\n",
    "  Respuesta: El mes pasado has gastado (amount) COP en (service).\n",
    "  \n",
    "  Contexto: Este es un pago de (amount) COP para pagar (service). Es un pago recurrente para pagar los días (payment_day). El número de factura es (invoice_number) y el provedor del servicio es (service_provider). Pago realizado el (payment_date).\n",
    "  Pregunta: ¿Cuánto he gastado en el mes pasado en (service)?\n",
    "  Respuesta: El mes pasado has gastado (amount) COP en (service_provider).\n",
    "  \n",
    "  Contexto: Este es un pago de (amount) COP para pagar (service). Es un pago recurrente para pagar los días (payment_day). El número de factura es (invoice_number) y el provedor del servicio es (service_provider). Pago realizado el (payment_date).\n",
    "  Pregunta: ¿Cual es el numero de mi factura de (service)?\n",
    "  Respuesta: El número de factura es (invoice_number).\n",
    "  \n",
    "  Contexto: Este es un pago de (amount) COP para pagar (service). Es un pago recurrente para pagar los días (payment_day). El número de factura es (invoice_number) y el provedor del servicio es (service_provider). Pago realizado el (payment_date).\n",
    "  Este es un pago de (amount) COP para pagar (service). Es un pago recurrente para pagar los días (payment_day). El número de factura es (invoice_number) y el provedor del servicio es (service_provider). Pago realizado el (payment_date).\n",
    "  Pregunta: ¿Cuando se realizo el ultimo pago de mi factura de (service)?\n",
    "  Respuesta: La fecha de pago más actual es del (payment_date mas actual).\n",
    "\n",
    "  Contexto:\n",
    "  {context}\n",
    "\n",
    "  Pregunta: {question}\n",
    "\n",
    "  Respuesta:\"\"\"\n",
    "    \n",
    "\n",
    "  #prompt = PromptTemplate(input_variables=['context', 'question'], template=template)\n",
    "  prompt = PromptTemplate(input_variables=['date','context', 'question'],\n",
    "                            template=template)\n",
    "\n",
    "  hf_pipe= HuggingFacePipeline(pipeline=instruct_pipeline)\n",
    "\n",
    "  return load_qa_chain(llm=hf_pipe, chain_type='stuff', prompt=prompt, verbose=True)"
   ]
  },
  {
   "cell_type": "code",
   "execution_count": 4,
   "metadata": {
    "colab": {
     "base_uri": "https://localhost:8080/"
    },
    "execution": {
     "iopub.execute_input": "2024-02-14T03:19:10.496775Z",
     "iopub.status.busy": "2024-02-14T03:19:10.496169Z",
     "iopub.status.idle": "2024-02-14T03:19:24.843562Z",
     "shell.execute_reply": "2024-02-14T03:19:24.842806Z",
     "shell.execute_reply.started": "2024-02-14T03:19:10.496741Z"
    },
    "executionInfo": {
     "elapsed": 23247,
     "status": "ok",
     "timestamp": 1707846399769,
     "user": {
      "displayName": "Santiago Gamboa",
      "userId": "10773537394585021203"
     },
     "user_tz": 300
    },
    "id": "yvRl0ph4SeyB",
    "outputId": "c5470499-1195-4265-aff0-936d790fc8cd",
    "tags": []
   },
   "outputs": [],
   "source": [
    "qa_chain = build_qa_chain()"
   ]
  },
  {
   "cell_type": "code",
   "execution_count": 5,
   "metadata": {
    "execution": {
     "iopub.execute_input": "2024-02-14T03:19:24.845003Z",
     "iopub.status.busy": "2024-02-14T03:19:24.844670Z",
     "iopub.status.idle": "2024-02-14T03:19:24.853510Z",
     "shell.execute_reply": "2024-02-14T03:19:24.852801Z",
     "shell.execute_reply.started": "2024-02-14T03:19:24.844977Z"
    },
    "id": "KzrRxKtTSker",
    "tags": []
   },
   "outputs": [],
   "source": [
    "from IPython.display import HTML\n",
    "\n",
    "def answer_question(question):\n",
    "  similar_docs = get_similar_docs(question, similar_doc_count=2)\n",
    "  result = qa_chain({\"date\": datetime.now().date() ,\"input_documents\": similar_docs, \"question\": question})\n",
    "  result_html = f\"<p><blockquote style=\\\"font-size:24\\\">{question}</blockquote></p>\"\n",
    "  result_html += f\"<p><blockquote style=\\font-size:18px\\\">{result['output_text']}</blockquote></p>\"\n",
    "  display(HTML(result_html))"
   ]
  },
  {
   "cell_type": "code",
   "execution_count": 6,
   "metadata": {
    "colab": {
     "base_uri": "https://localhost:8080/",
     "height": 490
    },
    "execution": {
     "iopub.execute_input": "2024-02-14T03:19:24.854798Z",
     "iopub.status.busy": "2024-02-14T03:19:24.854482Z",
     "iopub.status.idle": "2024-02-14T03:19:28.468907Z",
     "shell.execute_reply": "2024-02-14T03:19:28.467973Z",
     "shell.execute_reply.started": "2024-02-14T03:19:24.854775Z"
    },
    "executionInfo": {
     "elapsed": 51684,
     "status": "ok",
     "timestamp": 1707846451912,
     "user": {
      "displayName": "Santiago Gamboa",
      "userId": "10773537394585021203"
     },
     "user_tz": 300
    },
    "id": "tYfvtAkLVRv3",
    "outputId": "c191374f-9e5f-4e8e-ade7-e207c6268b04",
    "tags": []
   },
   "outputs": [
    {
     "name": "stdout",
     "output_type": "stream",
     "text": [
      "\n",
      "\n",
      "\u001b[1m> Entering new StuffDocumentsChain chain...\u001b[0m\n",
      "\n",
      "\n",
      "\u001b[1m> Entering new LLMChain chain...\u001b[0m\n",
      "Prompt after formatting:\n",
      "\u001b[32;1m\u001b[1;3mDebajo hay una instrucción que describe un pago específico. Utiliza la información detallada para responder la pregunta al final.\n",
      "\n",
      "  Instrucción:\n",
      "  Recibiras una pregunta relacionada al pago de algun servicio como agua, gas, internet, arriendo y otros. Debes dar solucion a la peticion de la persona teniendo en cuenta que el formato en el que tienes el contexto, el cual puede ser de la forma:\n",
      "  Este es un pago de (amount) para pagar (service). Es un pago recurrente para pagar los días (payment_day). El número de factura es (invoice_number) y el proveedor del servicio es (service_provider). El pago fue realizado el (payment_date). Usa esta\n",
      "  informacion para responder la pregunta. \n",
      "  Si recibes multiples facturas en el contexto, utiliza la información de la factura con la fecha más actual.\n",
      "  Si te piden el total pagado en los ultimos 'n' meses, suma el valor de las ultimas 'n' facturas.\n",
      "  La fecha de hoy es 2024-02-14. Usa esta fecha para evaluar las respuestas, por ejemplo. 3 de noviembre de 2023 es mas actual que 3 de agosto de 2023.\n",
      "  Si nos sabes la respuesta, admitelo.\n",
      "  \n",
      "  Ejemplos:\n",
      "  Contexto: Este es un pago de (amount) COP para pagar (service). Es un pago recurrente para pagar los días (payment_day). La forma de hacer este pago es Entrar a Vélez Osorio página y pago por PSE ingresando está CC 1020839613. Pago realizado el (payment_date).\n",
      "  Pregunta: ¿Cuánto he gastado en el mes pasado en (service)?\n",
      "  Respuesta: El mes pasado has gastado (amount) COP en (service).\n",
      "  \n",
      "  Contexto: Este es un pago de (amount) COP para pagar (service). Es un pago recurrente para pagar los días (payment_day). La forma de hacer este pago es Entrar a Vélez Osorio página y pago por PSE ingresando está CC 1010145723. Pago realizado el (payment_date).\n",
      "  Pregunta: ¿Cuánto he gastado en el mes pasado en (service)?\n",
      "  Respuesta: El mes pasado has gastado (amount) COP en (service).\n",
      "  \n",
      "  Contexto: Este es un pago de (amount) COP para pagar (service). Es un pago recurrente para pagar los días (payment_day). El número de factura es (invoice_number) y el provedor del servicio es (service_provider). Pago realizado el (payment_date).\n",
      "  Pregunta: ¿Cuánto he gastado en el mes pasado en (service)?\n",
      "  Respuesta: El mes pasado has gastado (amount) COP en (service).\n",
      "  \n",
      "  Contexto: Este es un pago de (amount) COP para pagar (service). Es un pago recurrente para pagar los días (payment_day). El número de factura es (invoice_number) y el provedor del servicio es (service_provider). Pago realizado el (payment_date).\n",
      "  Pregunta: ¿Cuánto he gastado en el mes pasado en (service)?\n",
      "  Respuesta: El mes pasado has gastado (amount) COP en (service_provider).\n",
      "  \n",
      "  Contexto: Este es un pago de (amount) COP para pagar (service). Es un pago recurrente para pagar los días (payment_day). El número de factura es (invoice_number) y el provedor del servicio es (service_provider). Pago realizado el (payment_date).\n",
      "  Pregunta: ¿Cual es el numero de mi factura de (service)?\n",
      "  Respuesta: El número de factura es (invoice_number).\n",
      "  \n",
      "  Contexto: Este es un pago de (amount) COP para pagar (service). Es un pago recurrente para pagar los días (payment_day). El número de factura es (invoice_number) y el provedor del servicio es (service_provider). Pago realizado el (payment_date).\n",
      "  Este es un pago de (amount) COP para pagar (service). Es un pago recurrente para pagar los días (payment_day). El número de factura es (invoice_number) y el provedor del servicio es (service_provider). Pago realizado el (payment_date).\n",
      "  Pregunta: ¿Cuando se realizo el ultimo pago de mi factura de (service)?\n",
      "  Respuesta: La fecha de pago más actual es del (payment_date mas actual).\n",
      "\n",
      "  Contexto:\n",
      "  Este es un pago de 21660 COP para pagar Gas- vanti. Es un pago recurrente para pagar los días 5. El número de factura es 63516511 y el provedor del servicio es Vanti - Gas Natural Bogotá. Pago realizado el 3 de Noviembre de 2023.\n",
      "\n",
      "\n",
      "Este es un pago de 54900 COP para pagar Gas Vanti. Es un pago recurrente para pagar los días 10. El número de factura es 61594344 y el provedor del servicio es Vanti - Gas Natural Bogotá. Pago realizado el 8 de Enero de 2024.\n",
      "\n",
      "\n",
      "  Pregunta: Cuanto dinero he gastado en el servicio de gas?\n",
      "\n",
      "  Respuesta:\u001b[0m\n",
      "\n",
      "\u001b[1m> Finished chain.\u001b[0m\n",
      "\n",
      "\u001b[1m> Finished chain.\u001b[0m\n"
     ]
    },
    {
     "data": {
      "text/html": [
       "<p><blockquote style=\"font-size:24\">Cuanto dinero he gastado en el servicio de gas?</blockquote></p><p><blockquote style=\f",
       "ont-size:18px\">\n",
       "El mes pasado has gastado 21660 COP en Gas Vanti.</blockquote></p>"
      ],
      "text/plain": [
       "<IPython.core.display.HTML object>"
      ]
     },
     "metadata": {},
     "output_type": "display_data"
    }
   ],
   "source": [
    "answer_question(\"Cuanto dinero he gastado en el servicio de gas?\")"
   ]
  },
  {
   "cell_type": "code",
   "execution_count": 7,
   "metadata": {
    "execution": {
     "iopub.execute_input": "2024-02-14T03:19:28.473722Z",
     "iopub.status.busy": "2024-02-14T03:19:28.473076Z",
     "iopub.status.idle": "2024-02-14T03:19:31.604281Z",
     "shell.execute_reply": "2024-02-14T03:19:31.603426Z",
     "shell.execute_reply.started": "2024-02-14T03:19:28.473684Z"
    },
    "tags": []
   },
   "outputs": [
    {
     "name": "stdout",
     "output_type": "stream",
     "text": [
      "\n",
      "\n",
      "\u001b[1m> Entering new StuffDocumentsChain chain...\u001b[0m\n",
      "\n",
      "\n",
      "\u001b[1m> Entering new LLMChain chain...\u001b[0m\n",
      "Prompt after formatting:\n",
      "\u001b[32;1m\u001b[1;3mDebajo hay una instrucción que describe un pago específico. Utiliza la información detallada para responder la pregunta al final.\n",
      "\n",
      "  Instrucción:\n",
      "  Recibiras una pregunta relacionada al pago de algun servicio como agua, gas, internet, arriendo y otros. Debes dar solucion a la peticion de la persona teniendo en cuenta que el formato en el que tienes el contexto, el cual puede ser de la forma:\n",
      "  Este es un pago de (amount) para pagar (service). Es un pago recurrente para pagar los días (payment_day). El número de factura es (invoice_number) y el proveedor del servicio es (service_provider). El pago fue realizado el (payment_date). Usa esta\n",
      "  informacion para responder la pregunta. \n",
      "  Si recibes multiples facturas en el contexto, utiliza la información de la factura con la fecha más actual.\n",
      "  Si te piden el total pagado en los ultimos 'n' meses, suma el valor de las ultimas 'n' facturas.\n",
      "  La fecha de hoy es 2024-02-14. Usa esta fecha para evaluar las respuestas, por ejemplo. 3 de noviembre de 2023 es mas actual que 3 de agosto de 2023.\n",
      "  Si nos sabes la respuesta, admitelo.\n",
      "  \n",
      "  Ejemplos:\n",
      "  Contexto: Este es un pago de (amount) COP para pagar (service). Es un pago recurrente para pagar los días (payment_day). La forma de hacer este pago es Entrar a Vélez Osorio página y pago por PSE ingresando está CC 1020839613. Pago realizado el (payment_date).\n",
      "  Pregunta: ¿Cuánto he gastado en el mes pasado en (service)?\n",
      "  Respuesta: El mes pasado has gastado (amount) COP en (service).\n",
      "  \n",
      "  Contexto: Este es un pago de (amount) COP para pagar (service). Es un pago recurrente para pagar los días (payment_day). La forma de hacer este pago es Entrar a Vélez Osorio página y pago por PSE ingresando está CC 1010145723. Pago realizado el (payment_date).\n",
      "  Pregunta: ¿Cuánto he gastado en el mes pasado en (service)?\n",
      "  Respuesta: El mes pasado has gastado (amount) COP en (service).\n",
      "  \n",
      "  Contexto: Este es un pago de (amount) COP para pagar (service). Es un pago recurrente para pagar los días (payment_day). El número de factura es (invoice_number) y el provedor del servicio es (service_provider). Pago realizado el (payment_date).\n",
      "  Pregunta: ¿Cuánto he gastado en el mes pasado en (service)?\n",
      "  Respuesta: El mes pasado has gastado (amount) COP en (service).\n",
      "  \n",
      "  Contexto: Este es un pago de (amount) COP para pagar (service). Es un pago recurrente para pagar los días (payment_day). El número de factura es (invoice_number) y el provedor del servicio es (service_provider). Pago realizado el (payment_date).\n",
      "  Pregunta: ¿Cuánto he gastado en el mes pasado en (service)?\n",
      "  Respuesta: El mes pasado has gastado (amount) COP en (service_provider).\n",
      "  \n",
      "  Contexto: Este es un pago de (amount) COP para pagar (service). Es un pago recurrente para pagar los días (payment_day). El número de factura es (invoice_number) y el provedor del servicio es (service_provider). Pago realizado el (payment_date).\n",
      "  Pregunta: ¿Cual es el numero de mi factura de (service)?\n",
      "  Respuesta: El número de factura es (invoice_number).\n",
      "  \n",
      "  Contexto: Este es un pago de (amount) COP para pagar (service). Es un pago recurrente para pagar los días (payment_day). El número de factura es (invoice_number) y el provedor del servicio es (service_provider). Pago realizado el (payment_date).\n",
      "  Este es un pago de (amount) COP para pagar (service). Es un pago recurrente para pagar los días (payment_day). El número de factura es (invoice_number) y el provedor del servicio es (service_provider). Pago realizado el (payment_date).\n",
      "  Pregunta: ¿Cuando se realizo el ultimo pago de mi factura de (service)?\n",
      "  Respuesta: La fecha de pago más actual es del (payment_date mas actual).\n",
      "\n",
      "  Contexto:\n",
      "  Este es un pago de 62800 COP para pagar Vanti gachancipa. Es un pago recurrente para pagar los días 17. El número de factura es 63542247 y el provedor del servicio es Vanti Gas Natural Cundiboyacense. Pago realizado el 29 de Diciembre de 2023.\n",
      "\n",
      "\n",
      "Este es un pago de 55740 COP para pagar Gas. Es un pago recurrente para pagar los días 5. El número de factura es 61344523 y el provedor del servicio es Vanti. Pago realizado el 3 de Noviembre de 2023.\n",
      "\n",
      "\n",
      "  Pregunta: Cual es el numero de mi factura de gas?\n",
      "\n",
      "  Respuesta:\u001b[0m\n",
      "\n",
      "\u001b[1m> Finished chain.\u001b[0m\n",
      "\n",
      "\u001b[1m> Finished chain.\u001b[0m\n"
     ]
    },
    {
     "data": {
      "text/html": [
       "<p><blockquote style=\"font-size:24\">Cual es el numero de mi factura de gas?</blockquote></p><p><blockquote style=\f",
       "ont-size:18px\">\n",
       "El número de factura es 61344523</blockquote></p>"
      ],
      "text/plain": [
       "<IPython.core.display.HTML object>"
      ]
     },
     "metadata": {},
     "output_type": "display_data"
    }
   ],
   "source": [
    "answer_question(\"Cual es el numero de mi factura de gas?\")"
   ]
  },
  {
   "cell_type": "code",
   "execution_count": 8,
   "metadata": {
    "execution": {
     "iopub.execute_input": "2024-02-14T03:19:31.606145Z",
     "iopub.status.busy": "2024-02-14T03:19:31.605544Z",
     "iopub.status.idle": "2024-02-14T03:19:35.659919Z",
     "shell.execute_reply": "2024-02-14T03:19:35.659110Z",
     "shell.execute_reply.started": "2024-02-14T03:19:31.606109Z"
    },
    "tags": []
   },
   "outputs": [
    {
     "name": "stdout",
     "output_type": "stream",
     "text": [
      "\n",
      "\n",
      "\u001b[1m> Entering new StuffDocumentsChain chain...\u001b[0m\n",
      "\n",
      "\n",
      "\u001b[1m> Entering new LLMChain chain...\u001b[0m\n",
      "Prompt after formatting:\n",
      "\u001b[32;1m\u001b[1;3mDebajo hay una instrucción que describe un pago específico. Utiliza la información detallada para responder la pregunta al final.\n",
      "\n",
      "  Instrucción:\n",
      "  Recibiras una pregunta relacionada al pago de algun servicio como agua, gas, internet, arriendo y otros. Debes dar solucion a la peticion de la persona teniendo en cuenta que el formato en el que tienes el contexto, el cual puede ser de la forma:\n",
      "  Este es un pago de (amount) para pagar (service). Es un pago recurrente para pagar los días (payment_day). El número de factura es (invoice_number) y el proveedor del servicio es (service_provider). El pago fue realizado el (payment_date). Usa esta\n",
      "  informacion para responder la pregunta. \n",
      "  Si recibes multiples facturas en el contexto, utiliza la información de la factura con la fecha más actual.\n",
      "  Si te piden el total pagado en los ultimos 'n' meses, suma el valor de las ultimas 'n' facturas.\n",
      "  La fecha de hoy es 2024-02-14. Usa esta fecha para evaluar las respuestas, por ejemplo. 3 de noviembre de 2023 es mas actual que 3 de agosto de 2023.\n",
      "  Si nos sabes la respuesta, admitelo.\n",
      "  \n",
      "  Ejemplos:\n",
      "  Contexto: Este es un pago de (amount) COP para pagar (service). Es un pago recurrente para pagar los días (payment_day). La forma de hacer este pago es Entrar a Vélez Osorio página y pago por PSE ingresando está CC 1020839613. Pago realizado el (payment_date).\n",
      "  Pregunta: ¿Cuánto he gastado en el mes pasado en (service)?\n",
      "  Respuesta: El mes pasado has gastado (amount) COP en (service).\n",
      "  \n",
      "  Contexto: Este es un pago de (amount) COP para pagar (service). Es un pago recurrente para pagar los días (payment_day). La forma de hacer este pago es Entrar a Vélez Osorio página y pago por PSE ingresando está CC 1010145723. Pago realizado el (payment_date).\n",
      "  Pregunta: ¿Cuánto he gastado en el mes pasado en (service)?\n",
      "  Respuesta: El mes pasado has gastado (amount) COP en (service).\n",
      "  \n",
      "  Contexto: Este es un pago de (amount) COP para pagar (service). Es un pago recurrente para pagar los días (payment_day). El número de factura es (invoice_number) y el provedor del servicio es (service_provider). Pago realizado el (payment_date).\n",
      "  Pregunta: ¿Cuánto he gastado en el mes pasado en (service)?\n",
      "  Respuesta: El mes pasado has gastado (amount) COP en (service).\n",
      "  \n",
      "  Contexto: Este es un pago de (amount) COP para pagar (service). Es un pago recurrente para pagar los días (payment_day). El número de factura es (invoice_number) y el provedor del servicio es (service_provider). Pago realizado el (payment_date).\n",
      "  Pregunta: ¿Cuánto he gastado en el mes pasado en (service)?\n",
      "  Respuesta: El mes pasado has gastado (amount) COP en (service_provider).\n",
      "  \n",
      "  Contexto: Este es un pago de (amount) COP para pagar (service). Es un pago recurrente para pagar los días (payment_day). El número de factura es (invoice_number) y el provedor del servicio es (service_provider). Pago realizado el (payment_date).\n",
      "  Pregunta: ¿Cual es el numero de mi factura de (service)?\n",
      "  Respuesta: El número de factura es (invoice_number).\n",
      "  \n",
      "  Contexto: Este es un pago de (amount) COP para pagar (service). Es un pago recurrente para pagar los días (payment_day). El número de factura es (invoice_number) y el provedor del servicio es (service_provider). Pago realizado el (payment_date).\n",
      "  Este es un pago de (amount) COP para pagar (service). Es un pago recurrente para pagar los días (payment_day). El número de factura es (invoice_number) y el provedor del servicio es (service_provider). Pago realizado el (payment_date).\n",
      "  Pregunta: ¿Cuando se realizo el ultimo pago de mi factura de (service)?\n",
      "  Respuesta: La fecha de pago más actual es del (payment_date mas actual).\n",
      "\n",
      "  Contexto:\n",
      "  Este es un pago de 50400 COP para pagar Gas. Es un pago recurrente para pagar los días 18. El número de factura es 61692633 y el provedor del servicio es Vanti - Gas Natural Bogotá. Pago realizado el 16 de Noviembre de 2023.\n",
      "\n",
      "\n",
      "Este es un pago de 21660 COP para pagar Gas- vanti. Es un pago recurrente para pagar los días 5. El número de factura es 63516511 y el provedor del servicio es Vanti - Gas Natural Bogotá. Pago realizado el 3 de Noviembre de 2023.\n",
      "\n",
      "\n",
      "  Pregunta: Cuando se realizo el ultimo pago del servicio de gas?\n",
      "\n",
      "  Respuesta:\u001b[0m\n",
      "\n",
      "\u001b[1m> Finished chain.\u001b[0m\n",
      "\n",
      "\u001b[1m> Finished chain.\u001b[0m\n"
     ]
    },
    {
     "data": {
      "text/html": [
       "<p><blockquote style=\"font-size:24\">Cuando se realizo el ultimo pago del servicio de gas?</blockquote></p><p><blockquote style=\f",
       "ont-size:18px\">\n",
       "El ultimo pago del servicio de gas se realizó el 16 de Noviembre de 2023.</blockquote></p>"
      ],
      "text/plain": [
       "<IPython.core.display.HTML object>"
      ]
     },
     "metadata": {},
     "output_type": "display_data"
    }
   ],
   "source": [
    "answer_question(\"Cuando se realizo el ultimo pago del servicio de gas?\")"
   ]
  },
  {
   "cell_type": "code",
   "execution_count": 9,
   "metadata": {
    "execution": {
     "iopub.execute_input": "2024-02-14T03:19:35.661255Z",
     "iopub.status.busy": "2024-02-14T03:19:35.660956Z",
     "iopub.status.idle": "2024-02-14T03:19:39.705879Z",
     "shell.execute_reply": "2024-02-14T03:19:39.705077Z",
     "shell.execute_reply.started": "2024-02-14T03:19:35.661232Z"
    },
    "tags": []
   },
   "outputs": [
    {
     "name": "stdout",
     "output_type": "stream",
     "text": [
      "\n",
      "\n",
      "\u001b[1m> Entering new StuffDocumentsChain chain...\u001b[0m\n",
      "\n",
      "\n",
      "\u001b[1m> Entering new LLMChain chain...\u001b[0m\n",
      "Prompt after formatting:\n",
      "\u001b[32;1m\u001b[1;3mDebajo hay una instrucción que describe un pago específico. Utiliza la información detallada para responder la pregunta al final.\n",
      "\n",
      "  Instrucción:\n",
      "  Recibiras una pregunta relacionada al pago de algun servicio como agua, gas, internet, arriendo y otros. Debes dar solucion a la peticion de la persona teniendo en cuenta que el formato en el que tienes el contexto, el cual puede ser de la forma:\n",
      "  Este es un pago de (amount) para pagar (service). Es un pago recurrente para pagar los días (payment_day). El número de factura es (invoice_number) y el proveedor del servicio es (service_provider). El pago fue realizado el (payment_date). Usa esta\n",
      "  informacion para responder la pregunta. \n",
      "  Si recibes multiples facturas en el contexto, utiliza la información de la factura con la fecha más actual.\n",
      "  Si te piden el total pagado en los ultimos 'n' meses, suma el valor de las ultimas 'n' facturas.\n",
      "  La fecha de hoy es 2024-02-14. Usa esta fecha para evaluar las respuestas, por ejemplo. 3 de noviembre de 2023 es mas actual que 3 de agosto de 2023.\n",
      "  Si nos sabes la respuesta, admitelo.\n",
      "  \n",
      "  Ejemplos:\n",
      "  Contexto: Este es un pago de (amount) COP para pagar (service). Es un pago recurrente para pagar los días (payment_day). La forma de hacer este pago es Entrar a Vélez Osorio página y pago por PSE ingresando está CC 1020839613. Pago realizado el (payment_date).\n",
      "  Pregunta: ¿Cuánto he gastado en el mes pasado en (service)?\n",
      "  Respuesta: El mes pasado has gastado (amount) COP en (service).\n",
      "  \n",
      "  Contexto: Este es un pago de (amount) COP para pagar (service). Es un pago recurrente para pagar los días (payment_day). La forma de hacer este pago es Entrar a Vélez Osorio página y pago por PSE ingresando está CC 1010145723. Pago realizado el (payment_date).\n",
      "  Pregunta: ¿Cuánto he gastado en el mes pasado en (service)?\n",
      "  Respuesta: El mes pasado has gastado (amount) COP en (service).\n",
      "  \n",
      "  Contexto: Este es un pago de (amount) COP para pagar (service). Es un pago recurrente para pagar los días (payment_day). El número de factura es (invoice_number) y el provedor del servicio es (service_provider). Pago realizado el (payment_date).\n",
      "  Pregunta: ¿Cuánto he gastado en el mes pasado en (service)?\n",
      "  Respuesta: El mes pasado has gastado (amount) COP en (service).\n",
      "  \n",
      "  Contexto: Este es un pago de (amount) COP para pagar (service). Es un pago recurrente para pagar los días (payment_day). El número de factura es (invoice_number) y el provedor del servicio es (service_provider). Pago realizado el (payment_date).\n",
      "  Pregunta: ¿Cuánto he gastado en el mes pasado en (service)?\n",
      "  Respuesta: El mes pasado has gastado (amount) COP en (service_provider).\n",
      "  \n",
      "  Contexto: Este es un pago de (amount) COP para pagar (service). Es un pago recurrente para pagar los días (payment_day). El número de factura es (invoice_number) y el provedor del servicio es (service_provider). Pago realizado el (payment_date).\n",
      "  Pregunta: ¿Cual es el numero de mi factura de (service)?\n",
      "  Respuesta: El número de factura es (invoice_number).\n",
      "  \n",
      "  Contexto: Este es un pago de (amount) COP para pagar (service). Es un pago recurrente para pagar los días (payment_day). El número de factura es (invoice_number) y el provedor del servicio es (service_provider). Pago realizado el (payment_date).\n",
      "  Este es un pago de (amount) COP para pagar (service). Es un pago recurrente para pagar los días (payment_day). El número de factura es (invoice_number) y el provedor del servicio es (service_provider). Pago realizado el (payment_date).\n",
      "  Pregunta: ¿Cuando se realizo el ultimo pago de mi factura de (service)?\n",
      "  Respuesta: La fecha de pago más actual es del (payment_date mas actual).\n",
      "\n",
      "  Contexto:\n",
      "  Este es un pago de 96901 COP para pagar Internet. Es un pago recurrente para pagar los días 5. El número de factura es 64600425 y el provedor del servicio es Claro - Hogar. Pago realizado el 4 de Noviembre de 2023.\n",
      "\n",
      "\n",
      "Este es un pago de 99900 COP para pagar Internet. Es un pago recurrente para pagar los días 5. El número de factura es 12313587 y el provedor del servicio es Claro - Hogar. Pago realizado el 28 de Noviembre de 2023.\n",
      "\n",
      "\n",
      "  Pregunta: Cuanto pague de internet la ultima vez?\n",
      "\n",
      "  Respuesta:\u001b[0m\n",
      "\n",
      "\u001b[1m> Finished chain.\u001b[0m\n",
      "\n",
      "\u001b[1m> Finished chain.\u001b[0m\n"
     ]
    },
    {
     "data": {
      "text/html": [
       "<p><blockquote style=\"font-size:24\">Cuanto pague de internet la ultima vez?</blockquote></p><p><blockquote style=\f",
       "ont-size:18px\">\n",
       "El último pago de internet la ultima vez fue el 28 de noviembre de 2023.</blockquote></p>"
      ],
      "text/plain": [
       "<IPython.core.display.HTML object>"
      ]
     },
     "metadata": {},
     "output_type": "display_data"
    }
   ],
   "source": [
    "answer_question(\"Cuanto pague de internet la ultima vez?\")"
   ]
  },
  {
   "cell_type": "code",
   "execution_count": null,
   "metadata": {},
   "outputs": [],
   "source": []
  }
 ],
 "metadata": {
  "accelerator": "GPU",
  "colab": {
   "authorship_tag": "ABX9TyM24KIuCiPbL86KqmsXcNUt",
   "gpuType": "T4",
   "mount_file_id": "1FBXj8RsmGrrruw0I0n8o3yl2NGRPkx8P",
   "provenance": []
  },
  "kernelspec": {
   "display_name": "saturn (Python 3)",
   "language": "python",
   "name": "python3"
  },
  "language_info": {
   "codemirror_mode": {
    "name": "ipython",
    "version": 3
   },
   "file_extension": ".py",
   "mimetype": "text/x-python",
   "name": "python",
   "nbconvert_exporter": "python",
   "pygments_lexer": "ipython3",
   "version": "3.9.18"
  }
 },
 "nbformat": 4,
 "nbformat_minor": 4
}
